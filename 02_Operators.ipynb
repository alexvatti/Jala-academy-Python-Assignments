{
 "cells": [
  {
   "cell_type": "markdown",
   "id": "c0036c48",
   "metadata": {},
   "source": [
    "# 2.Operators"
   ]
  },
  {
   "cell_type": "code",
   "execution_count": 1,
   "id": "3cca81f1",
   "metadata": {},
   "outputs": [
    {
     "name": "stdout",
     "output_type": "stream",
     "text": [
      "enter a number : 2\n",
      "enter a number : 4\n",
      " 1.add\n",
      " 2.sub\n",
      " 3.mul\n",
      " 4.div\n",
      "enter your choice:1\n",
      "Addition of 2 and 4 is 6\n"
     ]
    }
   ],
   "source": [
    "## 1.Write a function for arithmetic operators(+,-,*,/)\n",
    "\n",
    "def add(num1,num2):\n",
    "    return num1 + num2\n",
    "def sub(num1,num2):\n",
    "    return num1 - num2\n",
    "def mul(num1,num2):\n",
    "    return num1 * num2\n",
    "def div(num1,num2):\n",
    "    num1/num2\n",
    "    \n",
    "if __name__ == \"__main__\":\n",
    "    n = int(input(\"enter a number : \"))\n",
    "    m = int(input(\"enter a number : \"))\n",
    "    print(\" 1.add\\n 2.sub\\n 3.mul\\n 4.div\")\n",
    "    choice = int(input(\"enter your choice:\"))\n",
    "    if choice == 1:\n",
    "        print(f\"Addition of {n} and {m} is {add(n,m)}\")\n",
    "    elif choice == 2:\n",
    "        print(f\"Subtraction of {n} and {m} is {sub(n,m)}\")\n",
    "    elif choice == 3:\n",
    "        print(f\"multiplication of {n} and {m} is {mul(n,m)}\")\n",
    "    elif choice == 4:\n",
    "        print(f\"Divison of {n} by {m} is {div(n,m)}\")\n",
    "    else:\n",
    "        print(\"Invalid choice\")"
   ]
  },
  {
   "cell_type": "code",
   "execution_count": 2,
   "id": "b1b4a8d9",
   "metadata": {},
   "outputs": [
    {
     "name": "stdout",
     "output_type": "stream",
     "text": [
      "Incremented: 6\n",
      "Decremented: 5\n"
     ]
    }
   ],
   "source": [
    "## 2. Write a method for increment and decrement operators(++, --)\n",
    "def increment(value):\n",
    "    return value + 1\n",
    "\n",
    "def decrement(value):\n",
    "    return value - 1\n",
    "\n",
    "\n",
    "x = 5\n",
    "x = increment(x)  \n",
    "print(\"Incremented:\", x)\n",
    "\n",
    "x = decrement(x)  \n",
    "print(\"Decremented:\", x)"
   ]
  },
  {
   "cell_type": "code",
   "execution_count": 3,
   "id": "a76b7fac",
   "metadata": {},
   "outputs": [
    {
     "name": "stdout",
     "output_type": "stream",
     "text": [
      "enter a number : 5\n",
      "enter a number : 6\n",
      "5 and 6 are not equal\n"
     ]
    }
   ],
   "source": [
    "## 3.Write a program to find the two numbers equal or not.\n",
    "\n",
    "def check_two_num_equal_not(n,m):\n",
    "    if n == m:\n",
    "        return True\n",
    "    else:\n",
    "        return False\n",
    "\n",
    "n = int(input(\"enter a number : \"))\n",
    "m = int(input(\"enter a number : \"))\n",
    "if (check_two_num_equal_not(n,m)):\n",
    "    print(f\"{n} and {m} are equal\")\n",
    "else:\n",
    "    print(f\"{n} and {m} are not equal\")"
   ]
  },
  {
   "cell_type": "code",
   "execution_count": 4,
   "id": "fb29ef28",
   "metadata": {
    "scrolled": true
   },
   "outputs": [
    {
     "name": "stdout",
     "output_type": "stream",
     "text": [
      "enter a number : 5\n",
      "enter a number : 6\n",
      "less than True\n",
      "less than or equal True\n",
      "equal to False\n",
      "greater than False\n",
      "greater than equal  False\n",
      "not equal True\n"
     ]
    }
   ],
   "source": [
    "## 4. Program for relational operators (<,<==, >, >==)\n",
    "n = int(input(\"enter a number : \"))\n",
    "m = int(input(\"enter a number : \"))\n",
    "\n",
    "print(\"less than\", n < m )\n",
    "print(\"less than or equal\", n <=m )\n",
    "print(\"equal to\", n==m)\n",
    "print(\"greater than\", n>m)\n",
    "print(\"greater than equal \", n>=m)\n",
    "print(\"not equal\", n!=m)"
   ]
  },
  {
   "cell_type": "code",
   "execution_count": 6,
   "id": "a2e20509",
   "metadata": {},
   "outputs": [
    {
     "name": "stdout",
     "output_type": "stream",
     "text": [
      "enter a number : 5\n",
      "enter a number : 6\n",
      "enter a number : 7\n",
      "smallest number  5\n",
      "largest number 7\n"
     ]
    }
   ],
   "source": [
    "## 5. Print the smaller and larger number\n",
    "def smallest(a,b,c):\n",
    "    '''smallest among three numbers'''\n",
    "    if a<b and a<c:\n",
    "        return a\n",
    "    elif b<a and b<c:\n",
    "        return b\n",
    "    else:\n",
    "        return c\n",
    "    \n",
    "def largest(a,b,c):\n",
    "    '''largest among three numbers'''\n",
    "    if a>b and a>c:\n",
    "        return a\n",
    "    elif b>a and b>c:\n",
    "        return b\n",
    "    else:\n",
    "        return c\n",
    "    \n",
    "num1 = int(input(\"enter a number : \"))\n",
    "num2 = int(input(\"enter a number : \"))\n",
    "num3 = int(input(\"enter a number : \"))\n",
    "print(f\"smallest number  {smallest(num1,num2,num3)}\")\n",
    "print(f\"largest number {largest(num1,num2,num3)}\")"
   ]
  }
 ],
 "metadata": {
  "kernelspec": {
   "display_name": "Python 3 (ipykernel)",
   "language": "python",
   "name": "python3"
  },
  "language_info": {
   "codemirror_mode": {
    "name": "ipython",
    "version": 3
   },
   "file_extension": ".py",
   "mimetype": "text/x-python",
   "name": "python",
   "nbconvert_exporter": "python",
   "pygments_lexer": "ipython3",
   "version": "3.11.5"
  }
 },
 "nbformat": 4,
 "nbformat_minor": 5
}
