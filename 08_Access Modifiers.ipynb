{
 "cells": [
  {
   "cell_type": "markdown",
   "id": "268d4eb4",
   "metadata": {},
   "source": [
    "# 8.Access Modifiers"
   ]
  },
  {
   "cell_type": "markdown",
   "id": "751a72f6",
   "metadata": {},
   "source": [
    "## 1. Create a class with PRIVATE fields, private method and a main method. Print the fields in main method. Call the private method in main method.\n",
    "\n",
    "## Create a sub class and try to access the private fields and methods from sub class."
   ]
  },
  {
   "cell_type": "markdown",
   "id": "f4ac184a",
   "metadata": {},
   "source": [
    "## 2. Create a class with PROTECTED fields and methods. Access these fields and methods from any other class in the same package.\n",
    "\n",
    "## Also, Access the PROTECTED fields and methods from child class located in a different package Access the PROTECTED fields and methods from any class in different package\n"
   ]
  },
  {
   "cell_type": "markdown",
   "id": "eb0c24b7",
   "metadata": {},
   "source": [
    "## 3. Create a class with PUBLIC fields and methods.\n",
    "## Access the public methods and fields from any class in the same package or different package."
   ]
  },
  {
   "cell_type": "code",
   "execution_count": 4,
   "id": "d0636325",
   "metadata": {},
   "outputs": [
    {
     "name": "stdout",
     "output_type": "stream",
     "text": [
      "Public Data Member:  5\n",
      "Protected Data Member:  10\n",
      "Private Data Member:  15\n"
     ]
    }
   ],
   "source": [
    "class A:\n",
    "    public_var = 10\n",
    "    _protected_var = 20\n",
    "    __private_var = 30\n",
    "    \n",
    "    def __init__(self,a,b,c):\n",
    "        self.public_var = a\n",
    "        self._protected_var = b\n",
    "        self.__private_var = c\n",
    "        \n",
    "    def access_public_vars(self):\n",
    "        print(\"Public Data Member: \", self.public_var)\n",
    "    \n",
    "    def _access_protected_vars(self):\n",
    "        print(\"Protected Data Member: \", self._protected_var)\n",
    "        \n",
    "    def __access_private_vars(self):\n",
    "        print(\"Private Data Member: \", self.__private_var)\n",
    "    \n",
    "    def access_private_vars(self):\n",
    "        self.__access_private_vars()\n",
    "        \n",
    "# derived class\n",
    "class Sub(A):\n",
    "  \n",
    "    # constructor\n",
    "    def __init__(self, var1, var2, var3):\n",
    "        super().__init__( var1, var2, var3)\n",
    "           \n",
    "    # public member function\n",
    "    def accessProtectedMembers(self):\n",
    "        self._access_protected_vars()\n",
    "  \n",
    " \n",
    "obj = Sub(5, 10 , 15)\n",
    " \n",
    "# calling public member functions of the class\n",
    "obj.access_public_vars()\n",
    "obj.accessProtectedMembers()\n",
    "obj.access_private_vars()\n",
    " \n",
    "\n",
    "        "
   ]
  }
 ],
 "metadata": {
  "kernelspec": {
   "display_name": "Python 3 (ipykernel)",
   "language": "python",
   "name": "python3"
  },
  "language_info": {
   "codemirror_mode": {
    "name": "ipython",
    "version": 3
   },
   "file_extension": ".py",
   "mimetype": "text/x-python",
   "name": "python",
   "nbconvert_exporter": "python",
   "pygments_lexer": "ipython3",
   "version": "3.11.5"
  }
 },
 "nbformat": 4,
 "nbformat_minor": 5
}
