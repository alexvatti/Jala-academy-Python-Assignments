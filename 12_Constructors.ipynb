{
 "cells": [
  {
   "cell_type": "markdown",
   "id": "a7e44e08",
   "metadata": {},
   "source": [
    "## 1. Write a class with a default constructor, one argument constructor and two argument constructors. Instantiate the class to call all the constructors of that class from a main class\n"
   ]
  },
  {
   "cell_type": "code",
   "execution_count": 5,
   "id": "ae78bf3c",
   "metadata": {},
   "outputs": [],
   "source": [
    "class A:\n",
    "    def __init__(self,name=None,age=None,gender=None):\n",
    "        if name!=None:\n",
    "            self.name =name\n",
    "        if age!=None:\n",
    "            self.age=age\n",
    "        if gender!=None:\n",
    "            self.gender=gender\n",
    "\n",
    "obj1 = A()\n",
    "obj2 = A(\"alex\")\n",
    "obj3 = A(\"Alex\",30)\n",
    "obj4 = A(\"Alex\",30, \"Male\")"
   ]
  },
  {
   "cell_type": "markdown",
   "id": "a5e75916",
   "metadata": {},
   "source": [
    "## 2. Call the constructors(both default and argument constructors) of super class from a child class"
   ]
  },
  {
   "cell_type": "code",
   "execution_count": 6,
   "id": "801df771",
   "metadata": {},
   "outputs": [],
   "source": [
    "class B(A):\n",
    "    def __init__(self,name=None,age=None,gender=None):\n",
    "        super().__init__(name,age,gender)\n",
    "        \n",
    "obj1 = B()\n",
    "obj2 = B(\"alex\")\n",
    "obj3 = B(\"Alex\",30)\n",
    "obj4 = B(\"Alex\",30, \"Male\")    "
   ]
  },
  {
   "cell_type": "markdown",
   "id": "e421528d",
   "metadata": {},
   "source": [
    "## 3. Apply private, public, protected and default access modifiers to the constructor\n",
    "## 4. Write a program which illustrates the concept of attributes of a constructor"
   ]
  },
  {
   "cell_type": "code",
   "execution_count": 7,
   "id": "f5debafc",
   "metadata": {},
   "outputs": [
    {
     "name": "stdout",
     "output_type": "stream",
     "text": [
      "Name: Kashish\n",
      "Roll: 5\n",
      "Branch: CSE\n"
     ]
    }
   ],
   "source": [
    "class C:\n",
    "    name = None\n",
    "    _roll = None \n",
    "    __branch = None\n",
    "\n",
    "    # constructor\n",
    "    def __init__(self,name,roll,branch):\n",
    "        self.name = name  \n",
    "        self._roll = roll\n",
    "        self.__branch = branch  \n",
    "    def dsiplayName(self):\n",
    "        print(\"Name:\",self.name)\n",
    "    \n",
    "    # protected member function\n",
    "    def _displayRoll(self):\n",
    "         # accessing protected data members\n",
    "        print(\"Roll:\",self._roll)\n",
    "\n",
    "    # private member function \n",
    "    def __displayBranch(self):\n",
    "        # accessing private data members\n",
    "        print(\"Branch:\",self.__branch)\n",
    "\n",
    "    # public member function\n",
    "    def access__displayBranch(self):     \n",
    "          # accessing private member function\n",
    "        self.__displayBranch()\n",
    "\n",
    "class D(C):\n",
    "    def __init__(self,name, roll, branch):\n",
    "        super().__init__(name,roll, branch)\n",
    "      # public member function\n",
    "    def access_displayRoll(self):            \n",
    "         # accessing protected member functions of super class\n",
    "        self._displayRoll()\n",
    "\n",
    "obj = D(\"Kashish\", 5 , \"CSE\")\n",
    "# calling public member functions of the class  \n",
    "obj.dsiplayName()\n",
    "obj.access_displayRoll()\n",
    "obj.access__displayBranch()  "
   ]
  }
 ],
 "metadata": {
  "kernelspec": {
   "display_name": "Python 3 (ipykernel)",
   "language": "python",
   "name": "python3"
  },
  "language_info": {
   "codemirror_mode": {
    "name": "ipython",
    "version": 3
   },
   "file_extension": ".py",
   "mimetype": "text/x-python",
   "name": "python",
   "nbconvert_exporter": "python",
   "pygments_lexer": "ipython3",
   "version": "3.11.5"
  }
 },
 "nbformat": 4,
 "nbformat_minor": 5
}
