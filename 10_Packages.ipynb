{
 "cells": [
  {
   "cell_type": "code",
   "execution_count": 1,
   "id": "4c2444ad",
   "metadata": {},
   "outputs": [
    {
     "name": "stdout",
     "output_type": "stream",
     "text": [
      "Person's Name: Alice, Age: 30\n",
      "Student's Name: Bob, Grade: A\n"
     ]
    }
   ],
   "source": [
    "## 1. Create a program to create two class.\n",
    "## 1.1. Create a constructor and a method for each class\n",
    "## 1.2. Create a __init__.py for adding all packages\n",
    "## 1.3. Import the respective packages\n",
    "## 1.4. Call each class by creating an object to it\n",
    "## 1.5. Create a program by all the above\n",
    "\n",
    "import package1.person\n",
    "import package2.student\n",
    "\n",
    "def main():\n",
    "    # Create objects of both classes\n",
    "    person_obj = package1.person.Person(\"Alice\", 30)\n",
    "    student_obj = package2.student.Student(\"Bob\", \"A\")\n",
    "    \n",
    "    person_obj.display_info()\n",
    "    student_obj.display_info()\n",
    "\n",
    "if __name__ == \"__main__\":\n",
    "    main()"
   ]
  }
 ],
 "metadata": {
  "kernelspec": {
   "display_name": "Python 3 (ipykernel)",
   "language": "python",
   "name": "python3"
  },
  "language_info": {
   "codemirror_mode": {
    "name": "ipython",
    "version": 3
   },
   "file_extension": ".py",
   "mimetype": "text/x-python",
   "name": "python",
   "nbconvert_exporter": "python",
   "pygments_lexer": "ipython3",
   "version": "3.11.5"
  }
 },
 "nbformat": 4,
 "nbformat_minor": 5
}
