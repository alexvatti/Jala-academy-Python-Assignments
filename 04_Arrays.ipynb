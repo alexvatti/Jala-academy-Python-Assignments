{
 "cells": [
  {
   "cell_type": "markdown",
   "id": "7c045125",
   "metadata": {},
   "source": [
    " # 4. Arrays"
   ]
  },
  {
   "cell_type": "code",
   "execution_count": 1,
   "id": "c99860c0",
   "metadata": {},
   "outputs": [
    {
     "name": "stdout",
     "output_type": "stream",
     "text": [
      "55\n"
     ]
    }
   ],
   "source": [
    "## 1. Write a function to add integer values of an array\n",
    "from functools import reduce\n",
    "l = [1,2,3,4,5,6,7,8,9,10]\n",
    "print(reduce(lambda x,y:x+y, l))"
   ]
  },
  {
   "cell_type": "code",
   "execution_count": 2,
   "id": "791bee09",
   "metadata": {},
   "outputs": [
    {
     "name": "stdout",
     "output_type": "stream",
     "text": [
      "average  5.5\n"
     ]
    }
   ],
   "source": [
    "## 2. Write a function to calculate the average value of an array of integers\n",
    "l = [1,2,3,4,5,6,7,8,9,10]\n",
    "s = reduce(lambda x,y:x+y, l)\n",
    "print(\"average \", s/len(l))"
   ]
  },
  {
   "cell_type": "code",
   "execution_count": 3,
   "id": "7f4141a4",
   "metadata": {},
   "outputs": [
    {
     "name": "stdout",
     "output_type": "stream",
     "text": [
      "Index  9\n"
     ]
    }
   ],
   "source": [
    "## 3. Write a program to find the index of an array element\n",
    "\n",
    "my_list = [1,2,3,4,5,6,7,8,9,10]\n",
    "try:\n",
    "    index = my_list.index(10)\n",
    "except ValueError:\n",
    "    print(\"Element not found\")\n",
    "else:\n",
    "    print(\"Index \", index) "
   ]
  },
  {
   "cell_type": "code",
   "execution_count": 4,
   "id": "ffbc37d2",
   "metadata": {},
   "outputs": [
    {
     "name": "stdout",
     "output_type": "stream",
     "text": [
      "Element not found\n"
     ]
    },
    {
     "data": {
      "text/plain": [
       "-1"
      ]
     },
     "execution_count": 4,
     "metadata": {},
     "output_type": "execute_result"
    }
   ],
   "source": [
    "## 4. Write a function to test if array contains a specific value\n",
    "\n",
    "def test_value_in_list(my_list,value):\n",
    "    try:\n",
    "        index = my_list.index(value)\n",
    "        return index\n",
    "    except ValueError:\n",
    "        print(\"Element not found\")\n",
    "        return -1\n",
    "my_list = [1,2,3,4,5,6,7,8,9,10]\n",
    "test_value_in_list(my_list,100)    "
   ]
  },
  {
   "cell_type": "code",
   "execution_count": 5,
   "id": "bf5e8999",
   "metadata": {},
   "outputs": [
    {
     "data": {
      "text/plain": [
       "True"
      ]
     },
     "execution_count": 5,
     "metadata": {},
     "output_type": "execute_result"
    }
   ],
   "source": [
    "## 5. Write a function to remove a specific element from an array\n",
    "def remove_value_in_list(my_list,value):\n",
    "    try:\n",
    "        my_list.remove(value)\n",
    "        return True\n",
    "    except ValueError:\n",
    "        print(\"Element not found\")\n",
    "        return -1\n",
    "my_list = [1,2,3,4,5,6,7,8,9,10]\n",
    "remove_value_in_list(my_list,10) "
   ]
  },
  {
   "cell_type": "code",
   "execution_count": 6,
   "id": "337da616",
   "metadata": {},
   "outputs": [
    {
     "name": "stdout",
     "output_type": "stream",
     "text": [
      "[1, 2, 3, 4, 5, 6, 7, 8, 9, 10]\n"
     ]
    }
   ],
   "source": [
    "## 6. Write a function to copy an array to another array\n",
    "\n",
    "def copy_array_to_another(src):\n",
    "    dst = src.copy()\n",
    "    return dst\n",
    "my_list = [1,2,3,4,5,6,7,8,9,10]\n",
    "d=copy_array_to_another(my_list) \n",
    "print(d)"
   ]
  },
  {
   "cell_type": "code",
   "execution_count": 7,
   "id": "66e3c5fc",
   "metadata": {},
   "outputs": [
    {
     "name": "stdout",
     "output_type": "stream",
     "text": [
      "[1, 2, 3, 4, 5, 6, 7, 8, 9, 10, 1000]\n"
     ]
    }
   ],
   "source": [
    "## 7. Write a function to insert an element at a specific position in the array\n",
    "def insert_ele_pos_list(pos ,val,lst):\n",
    "    if pos >=0 and pos<=len(lst):\n",
    "        lst.insert(pos,val)\n",
    "        return lst\n",
    "    else:\n",
    "        print(\"Invalid Operation , position is out of boundaires\")\n",
    "        \n",
    "my_list = [1,2,3,4,5,6,7,8,9,10]\n",
    "l = insert_ele_pos_list(10,1000,my_list)\n",
    "print(l)"
   ]
  },
  {
   "cell_type": "code",
   "execution_count": 8,
   "id": "bede3e21",
   "metadata": {},
   "outputs": [
    {
     "name": "stdout",
     "output_type": "stream",
     "text": [
      "min value  1\n",
      "max value  10\n"
     ]
    }
   ],
   "source": [
    "## 8. Write a function to find the minimum and maximum value of an array\n",
    "\n",
    "my_list = [1,2,3,4,5,6,7,8,9,10]\n",
    "print(\"min value \", min(my_list))\n",
    "print(\"max value \" ,max(my_list))"
   ]
  },
  {
   "cell_type": "code",
   "execution_count": 9,
   "id": "cf527744",
   "metadata": {},
   "outputs": [
    {
     "name": "stdout",
     "output_type": "stream",
     "text": [
      "[10, 9, 8, 7, 6, 5, 4, 3, 2, 1]\n"
     ]
    }
   ],
   "source": [
    "## 9. Write a function to reverse an array of integer values\n",
    "\n",
    "def reverse_list(lst):\n",
    "    rev_list = []\n",
    "    for ele in lst:\n",
    "        rev_list.insert(0,ele)\n",
    "    return rev_list\n",
    "my_list = [1,2,3,4,5,6,7,8,9,10]\n",
    "print(reverse_list(my_list))"
   ]
  },
  {
   "cell_type": "code",
   "execution_count": 10,
   "id": "850b75c4",
   "metadata": {},
   "outputs": [
    {
     "name": "stdout",
     "output_type": "stream",
     "text": [
      "[1, 2, 3, 4]\n"
     ]
    }
   ],
   "source": [
    "##  10. Write a function to find the duplicate values of an array\n",
    "\n",
    "def duplicates_values_list(lst):\n",
    "    duplicate_list = []\n",
    "    not_duplicate_list = []\n",
    "    for ele in lst:\n",
    "        if ele not in not_duplicate_list:\n",
    "            not_duplicate_list.append(ele)\n",
    "        else:\n",
    "            if ele not in duplicate_list:\n",
    "                duplicate_list.append(ele)\n",
    "    return duplicate_list\n",
    "\n",
    "l = [1,1,1,2,2,2,3,3,3,4,4,4]\n",
    "print(duplicates_values_list(l))"
   ]
  },
  {
   "cell_type": "code",
   "execution_count": 11,
   "id": "23ce96b3",
   "metadata": {},
   "outputs": [
    {
     "name": "stdout",
     "output_type": "stream",
     "text": [
      "[2, 3, 4]\n"
     ]
    }
   ],
   "source": [
    "## 11. Write a program to find the common values between two arrays\n",
    "\n",
    "def common_values_lists(l1,l2):\n",
    "    common_values_lst = []\n",
    "    for ele in l1:\n",
    "        if ele in l2:\n",
    "            common_values_lst.append(ele)\n",
    "    return common_values_lst\n",
    "\n",
    "l1 = [1,2,3,4]\n",
    "l2 = [2,3,4,5]\n",
    "print(common_values_lists(l1,l2))"
   ]
  },
  {
   "cell_type": "code",
   "execution_count": 12,
   "id": "8fec52c4",
   "metadata": {},
   "outputs": [
    {
     "name": "stdout",
     "output_type": "stream",
     "text": [
      "[1, 2, 3, 4]\n"
     ]
    }
   ],
   "source": [
    "## 12. Write a method to remove duplicate elements from an array\n",
    "\n",
    "def remove_duplicates_values_list(lst):\n",
    "    non_duplicate_list = []\n",
    "    for ele in lst:\n",
    "        if ele not in non_duplicate_list:\n",
    "            non_duplicate_list.append(ele)\n",
    "    return non_duplicate_list\n",
    "\n",
    "l = [1,1,1,2,2,2,3,3,3,4,4,4]\n",
    "print(remove_duplicates_values_list(l))"
   ]
  },
  {
   "cell_type": "code",
   "execution_count": 13,
   "id": "77cefbb4",
   "metadata": {},
   "outputs": [
    {
     "name": "stdout",
     "output_type": "stream",
     "text": [
      "3\n"
     ]
    }
   ],
   "source": [
    "## 13. Write a method to find the second largest number in an array\n",
    "## 14. Write a method to find the second largest number in an array\n",
    "def second_largest_num_list(lst):\n",
    "    largest = second_largest = float('-inf')\n",
    "    for ele in lst:\n",
    "        if ele > largest:\n",
    "            second_largest = largest\n",
    "            largest = ele\n",
    "        elif ele > second_largest and ele!= largest:\n",
    "            second_largest = ele\n",
    "        else:\n",
    "            pass\n",
    "    return second_largest\n",
    "\n",
    "l = [1,1,1,2,2,2,3,3,3,4,4,4]\n",
    "print(second_largest_num_list(l))"
   ]
  },
  {
   "cell_type": "code",
   "execution_count": 14,
   "id": "1071eca4",
   "metadata": {},
   "outputs": [
    {
     "name": "stdout",
     "output_type": "stream",
     "text": [
      "[2, 4, 6, 8, 10]\n",
      "[1, 3, 5, 7, 9]\n"
     ]
    }
   ],
   "source": [
    "## 15. Write a method to find number of even number and odd numbers in an array\n",
    "l = [1,2,3,4,5,6,7,8,9,10]\n",
    "even_num_lst = list(filter(lambda x: x%2==0, l))\n",
    "odd_num_lst = list(filter(lambda x: x%2!=0, l))\n",
    "print(even_num_lst)\n",
    "print(odd_num_lst)"
   ]
  },
  {
   "cell_type": "code",
   "execution_count": 15,
   "id": "e88bc9b9",
   "metadata": {},
   "outputs": [
    {
     "name": "stdout",
     "output_type": "stream",
     "text": [
      "9\n"
     ]
    }
   ],
   "source": [
    "## 16. Write a function to get the difference of largest and smallest value\n",
    "def diff_largest_smallest_num_list(lst):\n",
    "    return max(lst)-min(lst)\n",
    "\n",
    "l = [1,2,3,4,5,6,7,8,9,10]\n",
    "print(diff_largest_smallest_num_list(l))"
   ]
  },
  {
   "cell_type": "code",
   "execution_count": 16,
   "id": "3a052d2a",
   "metadata": {},
   "outputs": [
    {
     "name": "stdout",
     "output_type": "stream",
     "text": [
      "Element/Elements not found\n"
     ]
    },
    {
     "data": {
      "text/plain": [
       "-1"
      ]
     },
     "execution_count": 16,
     "metadata": {},
     "output_type": "execute_result"
    }
   ],
   "source": [
    "## 17. Write a method to verify if the array contains two specified elements(12,23)\n",
    "def test_values_in_list(my_list,value1,value2):\n",
    "    try:\n",
    "        index1 = my_list.index(value1)\n",
    "        index2 = my_list.index(value2)\n",
    "        return index1,index2\n",
    "    except ValueError:\n",
    "        print(\"Element/Elements not found\")\n",
    "        return -1\n",
    "    \n",
    "my_list = [1,2,3,4,5,6,7,8,9,10]\n",
    "test_values_in_list(my_list,3,100) "
   ]
  },
  {
   "cell_type": "code",
   "execution_count": 17,
   "id": "cd594cd6",
   "metadata": {},
   "outputs": [
    {
     "name": "stdout",
     "output_type": "stream",
     "text": [
      "[1, 2, 3, 4]\n"
     ]
    }
   ],
   "source": [
    "## 18. Write a program to remove the duplicate elements and return the new array\n",
    "def remove_duplicates_values_list(lst):\n",
    "    non_duplicate_list = []\n",
    "    for ele in lst:\n",
    "        if ele not in non_duplicate_list:\n",
    "            non_duplicate_list.append(ele)\n",
    "    return non_duplicate_list\n",
    "\n",
    "l = [1,1,1,2,2,2,3,3,3,4,4,4]\n",
    "print(remove_duplicates_values_list(l))"
   ]
  }
 ],
 "metadata": {
  "kernelspec": {
   "display_name": "Python 3 (ipykernel)",
   "language": "python",
   "name": "python3"
  },
  "language_info": {
   "codemirror_mode": {
    "name": "ipython",
    "version": 3
   },
   "file_extension": ".py",
   "mimetype": "text/x-python",
   "name": "python",
   "nbconvert_exporter": "python",
   "pygments_lexer": "ipython3",
   "version": "3.11.5"
  }
 },
 "nbformat": 4,
 "nbformat_minor": 5
}
