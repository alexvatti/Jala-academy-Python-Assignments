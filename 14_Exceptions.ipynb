{
 "cells": [
  {
   "cell_type": "markdown",
   "id": "8dd2dc55",
   "metadata": {},
   "source": [
    "# 14.Exceptions"
   ]
  },
  {
   "cell_type": "code",
   "execution_count": 2,
   "id": "ab75020b",
   "metadata": {},
   "outputs": [
    {
     "ename": "ZeroDivisionError",
     "evalue": "division by zero",
     "output_type": "error",
     "traceback": [
      "\u001b[1;31m---------------------------------------------------------------------------\u001b[0m",
      "\u001b[1;31mZeroDivisionError\u001b[0m                         Traceback (most recent call last)",
      "Cell \u001b[1;32mIn[2], line 4\u001b[0m\n\u001b[0;32m      2\u001b[0m a \u001b[38;5;241m=\u001b[39m \u001b[38;5;241m5\u001b[39m\n\u001b[0;32m      3\u001b[0m b \u001b[38;5;241m=\u001b[39m \u001b[38;5;241m0\u001b[39m\n\u001b[1;32m----> 4\u001b[0m result \u001b[38;5;241m=\u001b[39m a\u001b[38;5;241m/\u001b[39mb\n",
      "\u001b[1;31mZeroDivisionError\u001b[0m: division by zero"
     ]
    }
   ],
   "source": [
    "## 1. Write a program to generate Arithmetic Exception without exception handling\n",
    "a = 5\n",
    "b = 0\n",
    "result = a/b"
   ]
  },
  {
   "cell_type": "code",
   "execution_count": 3,
   "id": "5fe6261e",
   "metadata": {},
   "outputs": [
    {
     "name": "stdout",
     "output_type": "stream",
     "text": [
      "ZeroDivisionError\n"
     ]
    }
   ],
   "source": [
    "## 2. Handle the Arithmetic exception using try-catch block\n",
    "try:\n",
    "    a = 5\n",
    "    b = 0\n",
    "    result = a/b\n",
    "except ZeroDivisionError:\n",
    "    print(\"ZeroDivisionError\")\n",
    "else:\n",
    "    print(\"No error\")"
   ]
  },
  {
   "cell_type": "code",
   "execution_count": 4,
   "id": "b0eb82e1",
   "metadata": {},
   "outputs": [
    {
     "ename": "ZeroDivisionError",
     "evalue": "division by zero",
     "output_type": "error",
     "traceback": [
      "\u001b[1;31m---------------------------------------------------------------------------\u001b[0m",
      "\u001b[1;31mZeroDivisionError\u001b[0m                         Traceback (most recent call last)",
      "Cell \u001b[1;32mIn[4], line 6\u001b[0m\n\u001b[0;32m      3\u001b[0m \u001b[38;5;28;01mdef\u001b[39;00m \u001b[38;5;21mdivision\u001b[39m(a,b):\n\u001b[0;32m      4\u001b[0m     \u001b[38;5;28;01mreturn\u001b[39;00m a\u001b[38;5;241m/\u001b[39mb\n\u001b[1;32m----> 6\u001b[0m division(\u001b[38;5;241m10\u001b[39m,\u001b[38;5;241m0\u001b[39m)\n",
      "Cell \u001b[1;32mIn[4], line 4\u001b[0m, in \u001b[0;36mdivision\u001b[1;34m(a, b)\u001b[0m\n\u001b[0;32m      3\u001b[0m \u001b[38;5;28;01mdef\u001b[39;00m \u001b[38;5;21mdivision\u001b[39m(a,b):\n\u001b[1;32m----> 4\u001b[0m     \u001b[38;5;28;01mreturn\u001b[39;00m a\u001b[38;5;241m/\u001b[39mb\n",
      "\u001b[1;31mZeroDivisionError\u001b[0m: division by zero"
     ]
    }
   ],
   "source": [
    "## 3. Write a method which throws exception, Call that method in main class without try block\n",
    "\n",
    "def division(a,b):\n",
    "    return a/b\n",
    "\n",
    "division(10,0)"
   ]
  },
  {
   "cell_type": "code",
   "execution_count": 5,
   "id": "31d0b286",
   "metadata": {},
   "outputs": [
    {
     "name": "stdout",
     "output_type": "stream",
     "text": [
      "TypeError\n"
     ]
    }
   ],
   "source": [
    "## 4. Write a program with multiple catch blocks\n",
    "try:\n",
    "    a = 5\n",
    "    b = 1\n",
    "    result = a/b\n",
    "    result =  \"ans\" + a\n",
    "except ZeroDivisionError :\n",
    "    print(\"ZeroDivisionError\")\n",
    "except TypeError:\n",
    "    print(\"TypeError\")"
   ]
  },
  {
   "cell_type": "code",
   "execution_count": 6,
   "id": "03263d73",
   "metadata": {},
   "outputs": [
    {
     "name": "stdout",
     "output_type": "stream",
     "text": [
      "Divide by zero - check the code\n"
     ]
    }
   ],
   "source": [
    "## 5. Write a program to throw exception with your own message\n",
    "try:\n",
    "    a = 5\n",
    "    b = 0\n",
    "    result = a/b\n",
    "except ZeroDivisionError:\n",
    "    print(\"Divide by zero - check the code\")"
   ]
  },
  {
   "cell_type": "code",
   "execution_count": 7,
   "id": "42b5ee3b",
   "metadata": {},
   "outputs": [
    {
     "name": "stdout",
     "output_type": "stream",
     "text": [
      "Enter a number (0 to 5): 6\n",
      "Error: Input is not in the range 0 to 5\n"
     ]
    }
   ],
   "source": [
    "## 6. Write a program to create your own exception\n",
    "\n",
    "class InvalidInputError(Exception):\n",
    "    def __init__(self, message=\"Input is not in the range 0 to 5\"):\n",
    "        self.message = message\n",
    "        super().__init__(self.message)\n",
    "\n",
    "# Program to raise custom exception\n",
    "try:\n",
    "    num = int(input(\"Enter a number (0 to 5): \"))\n",
    "    if 0 <= num <= 5:\n",
    "        print(\"Valid input:\", num)\n",
    "    else:\n",
    "        raise InvalidInputError()\n",
    "except InvalidInputError as e:\n",
    "    print(\"Error:\", e)\n"
   ]
  },
  {
   "cell_type": "code",
   "execution_count": 8,
   "id": "f2f0097d",
   "metadata": {},
   "outputs": [
    {
     "name": "stdout",
     "output_type": "stream",
     "text": [
      "done\n"
     ]
    }
   ],
   "source": [
    "## 7. Write a program with finally block\n",
    "\n",
    "try :\n",
    "    a = 5\n",
    "    b = 1\n",
    "    result = a/b\n",
    "except ZeroDivisionError:\n",
    "    print(\"ZeroDivisionError\")\n",
    "finally:\n",
    "    print(\"done\")"
   ]
  },
  {
   "cell_type": "code",
   "execution_count": 9,
   "id": "ab73396f",
   "metadata": {},
   "outputs": [
    {
     "name": "stdout",
     "output_type": "stream",
     "text": [
      "Enter numerator: 5\n",
      "Enter denominator: 10\n",
      "The result is: 0.5\n"
     ]
    }
   ],
   "source": [
    "## 8. Write a program to generate Arithmetic Exception\n",
    "try:\n",
    "    # Attempt division by zero\n",
    "    numerator = int(input(\"Enter numerator: \"))\n",
    "    denominator = int(input(\"Enter denominator: \"))\n",
    "    \n",
    "    result = numerator / denominator\n",
    "    print(f\"The result is: {result}\")\n",
    "\n",
    "except ZeroDivisionError as e:\n",
    "    print(\"Arithmetic Exception: Cannot divide by zero.\")\n",
    "    print(\"Error Details:\", e)"
   ]
  },
  {
   "cell_type": "code",
   "execution_count": 10,
   "id": "bc3d1c26",
   "metadata": {},
   "outputs": [
    {
     "name": "stdout",
     "output_type": "stream",
     "text": [
      "FileNotFoundException: The file does not exist.\n",
      "Error Details: [Errno 2] No such file or directory: 'example.txt'\n"
     ]
    }
   ],
   "source": [
    "## 9. Write a program to generate FileNotFoundException\n",
    "try:\n",
    "    with open(\"example.txt\", 'r') as file:\n",
    "        content = file.read()\n",
    "        print(\"File content:\")\n",
    "        print(content)\n",
    "\n",
    "except FileNotFoundError as e:\n",
    "    print(\"FileNotFoundException: The file does not exist.\")\n",
    "    print(\"Error Details:\", e)"
   ]
  },
  {
   "cell_type": "code",
   "execution_count": 13,
   "id": "0faf9105",
   "metadata": {},
   "outputs": [],
   "source": [
    "## 10. Write a program to generate ClassNotFoundException\n",
    "try:\n",
    "    import abc\n",
    "except ImportError  as e:\n",
    "    print(\"ClassNotFoundException: The module or class does not exist.\")\n",
    "    print(\"Error Details:\", e)"
   ]
  },
  {
   "cell_type": "code",
   "execution_count": 14,
   "id": "3e50e63e",
   "metadata": {},
   "outputs": [],
   "source": [
    "## 11. Write a program to generate IOException\n",
    "try:\n",
    "    # Attempt to write to a read-only file\n",
    "    with open(\"read_only_file.txt\", \"w\") as file:\n",
    "        file.write(\"This will fail!\")\n",
    "\n",
    "except OSError as e:\n",
    "    print(\"IOException: An error occurred while performing file operations.\")\n",
    "    print(\"Error Details:\", e)"
   ]
  },
  {
   "cell_type": "code",
   "execution_count": 15,
   "id": "c317095d",
   "metadata": {},
   "outputs": [
    {
     "name": "stdout",
     "output_type": "stream",
     "text": [
      "NoSuchFieldException: The requested field does not exist.\n",
      "Error Details: 'SampleClass' object has no attribute 'non_existent_field'\n"
     ]
    }
   ],
   "source": [
    "## 12. Write a program to generate NoSuchFieldException\n",
    "class SampleClass:\n",
    "    def __init__(self):\n",
    "        self.existing_field = \"I exist!\"\n",
    "\n",
    "try:\n",
    "    # Create an object of SampleClass\n",
    "    obj = SampleClass()\n",
    "\n",
    "    # Attempt to access a non-existent field\n",
    "    print(obj.non_existent_field)\n",
    "\n",
    "except AttributeError as e:\n",
    "    # Handle the NoSuchFieldException-like behavior\n",
    "    print(\"NoSuchFieldException: The requested field does not exist.\")\n",
    "    print(\"Error Details:\", e)"
   ]
  }
 ],
 "metadata": {
  "kernelspec": {
   "display_name": "Python 3 (ipykernel)",
   "language": "python",
   "name": "python3"
  },
  "language_info": {
   "codemirror_mode": {
    "name": "ipython",
    "version": 3
   },
   "file_extension": ".py",
   "mimetype": "text/x-python",
   "name": "python",
   "nbconvert_exporter": "python",
   "pygments_lexer": "ipython3",
   "version": "3.11.5"
  }
 },
 "nbformat": 4,
 "nbformat_minor": 5
}
