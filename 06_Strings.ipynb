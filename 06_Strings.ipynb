{
 "cells": [
  {
   "cell_type": "markdown",
   "id": "626817a3",
   "metadata": {},
   "source": [
    "# 6.Strings"
   ]
  },
  {
   "cell_type": "code",
   "execution_count": 1,
   "id": "bed177f5",
   "metadata": {},
   "outputs": [
    {
     "name": "stdout",
     "output_type": "stream",
     "text": [
      "Jala Academy\n",
      "learning Python\n",
      "i love \n",
      "        python\n",
      "i love\n",
      "        python\n",
      "        \n"
     ]
    }
   ],
   "source": [
    "## 1. Different ways creating a string\n",
    "txt = \"Jala Academy\"\n",
    "print(txt)\n",
    "txt  = 'learning Python'\n",
    "print(txt)\n",
    "txt  = '''i love \n",
    "        python'''\n",
    "print(txt)\n",
    "txt = \"\"\"i love\n",
    "        python\n",
    "        \"\"\"\n",
    "print(txt)"
   ]
  },
  {
   "cell_type": "code",
   "execution_count": 2,
   "id": "4292fffc",
   "metadata": {},
   "outputs": [
    {
     "name": "stdout",
     "output_type": "stream",
     "text": [
      "Jala Academy learning Python\n"
     ]
    }
   ],
   "source": [
    "## 2. Concatenating two strings using + operator\n",
    "txt1 = \"Jala Academy \"\n",
    "txt2  = 'learning Python'\n",
    "print(txt1 + txt2)"
   ]
  },
  {
   "cell_type": "code",
   "execution_count": 3,
   "id": "66099594",
   "metadata": {},
   "outputs": [
    {
     "name": "stdout",
     "output_type": "stream",
     "text": [
      "13\n",
      "15\n"
     ]
    }
   ],
   "source": [
    "## 3. Finding the length of the string\n",
    "txt1 = \"Jala Academy \"\n",
    "txt2  = 'learning Python'\n",
    "print(len(txt1))\n",
    "print(len(txt2))"
   ]
  },
  {
   "cell_type": "code",
   "execution_count": 4,
   "id": "cf5d1061",
   "metadata": {},
   "outputs": [
    {
     "name": "stdout",
     "output_type": "stream",
     "text": [
      "0\n"
     ]
    }
   ],
   "source": [
    "## 4. Extract a string using Substring\n",
    "\n",
    "def substring_find_string(sub,string):\n",
    "    index=string.find(sub)\n",
    "    if index !=-1:\n",
    "        return index\n",
    "    else:\n",
    "        return \"Not found\"\n",
    "    \n",
    "txt1 = \"Jala Academy\"\n",
    "sub = \"Jala\"\n",
    "print(substring_find_string(sub,txt1))"
   ]
  },
  {
   "cell_type": "code",
   "execution_count": 5,
   "id": "486691e4",
   "metadata": {},
   "outputs": [
    {
     "name": "stdout",
     "output_type": "stream",
     "text": [
      "Element not found\n",
      "-1\n"
     ]
    }
   ],
   "source": [
    "## 5. Searching in strings using index()\n",
    "def substring_find_string_index(sub,string):\n",
    "    try :\n",
    "        index=string.index(sub)\n",
    "        return index\n",
    "    except ValueError:\n",
    "        print(\"Element not found\")\n",
    "        return -1\n",
    "    \n",
    "txt1 = \"Jala Academy\"\n",
    "sub = \"Jala1\"\n",
    "print(substring_find_string_index(sub,txt1))"
   ]
  },
  {
   "cell_type": "code",
   "execution_count": 1,
   "id": "64766ef3",
   "metadata": {},
   "outputs": [],
   "source": [
    "## 6. Matching a String Against a Regular Expression With matches()"
   ]
  },
  {
   "cell_type": "code",
   "execution_count": 6,
   "id": "6c84adec",
   "metadata": {},
   "outputs": [
    {
     "name": "stdout",
     "output_type": "stream",
     "text": [
      "Both strings are equal\n"
     ]
    }
   ],
   "source": [
    "## 7. Comparing strings\n",
    "def compare_strings(s1,s2):\n",
    "    if s1 == s2:\n",
    "        print(\"Both strings are equal\")\n",
    "    elif s1 > s2:\n",
    "        print(\"s1 string is greater than s2\")\n",
    "    else:\n",
    "         print(\"s1 string is lesser than s2\")\n",
    "            \n",
    "compare_strings(\"hi\", \"hi\")"
   ]
  },
  {
   "cell_type": "code",
   "execution_count": 8,
   "id": "5f51d3eb",
   "metadata": {},
   "outputs": [
    {
     "name": "stdout",
     "output_type": "stream",
     "text": [
      "True\n",
      "True\n"
     ]
    }
   ],
   "source": [
    "## 8. startsWith(), endsWith() and compareTo()\n",
    "s = \"hello welocme to python\"\n",
    "print(s.startswith(\"hello\"))\n",
    "print(s.endswith(\"python\"))"
   ]
  },
  {
   "cell_type": "code",
   "execution_count": 9,
   "id": "25b246ab",
   "metadata": {},
   "outputs": [
    {
     "name": "stdout",
     "output_type": "stream",
     "text": [
      "       hello welocme to python          \n"
     ]
    },
    {
     "data": {
      "text/plain": [
       "'hello welocme to python'"
      ]
     },
     "execution_count": 9,
     "metadata": {},
     "output_type": "execute_result"
    }
   ],
   "source": [
    "## 9. Trimming strings with strip()\n",
    "s = \"       hello welocme to python          \"\n",
    "print(s)\n",
    "s.strip()"
   ]
  },
  {
   "cell_type": "code",
   "execution_count": 10,
   "id": "17c080dd",
   "metadata": {},
   "outputs": [
    {
     "data": {
      "text/plain": [
       "'hello world from'"
      ]
     },
     "execution_count": 10,
     "metadata": {},
     "output_type": "execute_result"
    }
   ],
   "source": [
    "## 10. Replacing characters in strings with replace()\n",
    "\n",
    "s= \"hello world to\"\n",
    "s.replace(\"to\", \"from\")"
   ]
  },
  {
   "cell_type": "code",
   "execution_count": 11,
   "id": "8f8f70a0",
   "metadata": {},
   "outputs": [
    {
     "data": {
      "text/plain": [
       "['hello', 'world', 'programming', 'python']"
      ]
     },
     "execution_count": 11,
     "metadata": {},
     "output_type": "execute_result"
    }
   ],
   "source": [
    "## 11. Splitting strings with split()\n",
    "\n",
    "s = \"hello world programming python\"\n",
    "s.split()"
   ]
  },
  {
   "cell_type": "code",
   "execution_count": 12,
   "id": "86299677",
   "metadata": {},
   "outputs": [
    {
     "data": {
      "text/plain": [
       "'123 345 789'"
      ]
     },
     "execution_count": 12,
     "metadata": {},
     "output_type": "execute_result"
    }
   ],
   "source": [
    "## 12. Converting integer objects to Strings\n",
    "l = [123, 345,789]\n",
    "result = []\n",
    "for ele in l:\n",
    "    result.append( str(ele)) \n",
    "\n",
    "\" \".join(result)"
   ]
  },
  {
   "cell_type": "code",
   "execution_count": 13,
   "id": "5991eae5",
   "metadata": {},
   "outputs": [
    {
     "name": "stdout",
     "output_type": "stream",
     "text": [
      "hello world\n",
      "HELLO WORLD\n",
      "hello world\n"
     ]
    }
   ],
   "source": [
    "## 13. Converting to uppercase and lowercase\n",
    "txt = \"Hello World\"\n",
    "print(txt.lower())\n",
    "print(txt.upper())\n",
    "print(txt.casefold())"
   ]
  },
  {
   "cell_type": "code",
   "execution_count": null,
   "id": "e9656f8c",
   "metadata": {},
   "outputs": [],
   "source": []
  }
 ],
 "metadata": {
  "kernelspec": {
   "display_name": "Python 3 (ipykernel)",
   "language": "python",
   "name": "python3"
  },
  "language_info": {
   "codemirror_mode": {
    "name": "ipython",
    "version": 3
   },
   "file_extension": ".py",
   "mimetype": "text/x-python",
   "name": "python",
   "nbconvert_exporter": "python",
   "pygments_lexer": "ipython3",
   "version": "3.11.5"
  }
 },
 "nbformat": 4,
 "nbformat_minor": 5
}
