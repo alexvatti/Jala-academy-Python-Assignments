{
 "cells": [
  {
   "cell_type": "markdown",
   "id": "9070993e",
   "metadata": {},
   "source": [
    "# 7. Inheritance"
   ]
  },
  {
   "cell_type": "markdown",
   "id": "5e03d2d4",
   "metadata": {},
   "source": [
    "## Create three methods in each class, 2 methods are specific to each class and third  method (override method) should be in all three Classes A, B and C"
   ]
  },
  {
   "cell_type": "code",
   "execution_count": 2,
   "id": "13ae939d",
   "metadata": {},
   "outputs": [
    {
     "name": "stdout",
     "output_type": "stream",
     "text": [
      "method 3 in class C\n"
     ]
    }
   ],
   "source": [
    "class A:\n",
    "    def a_class_method1(self):\n",
    "        pass\n",
    "    def a_class_method2(self):\n",
    "        pass\n",
    "    def method3(self):\n",
    "        print(\"method 3 in class A\")\n",
    "    \n",
    "class B(A):\n",
    "    def b_class_method1(self):\n",
    "        pass\n",
    "    def b_class_method2(self):\n",
    "        pass\n",
    "    def method3(self):\n",
    "        print(\"method 3 in class B\")\n",
    "    \n",
    "class C(B):\n",
    "    def c_class_method1(self):\n",
    "        pass\n",
    "    def c_class_method2(self):\n",
    "        pass\n",
    "    def method3(self):\n",
    "        print(\"method 3 in class C\")\n",
    "    \n",
    "    \n",
    "    \n",
    "obj_c =C()\n",
    "obj_c.method3()"
   ]
  },
  {
   "cell_type": "markdown",
   "id": "d523bbdc",
   "metadata": {},
   "source": [
    "##  Create a class with main method. Create an object for each class A, B and C in main  method and call every method of each class using its own object/instance."
   ]
  },
  {
   "cell_type": "code",
   "execution_count": 4,
   "id": "c1921662",
   "metadata": {},
   "outputs": [
    {
     "name": "stdout",
     "output_type": "stream",
     "text": [
      "method 3 in class C\n",
      "method 3 in class B\n",
      "method 3 in class A\n"
     ]
    }
   ],
   "source": [
    "obj_c = C()\n",
    "obj_b = B()\n",
    "obj_a = A()\n",
    "\n",
    "obj_c.method3()\n",
    "\n",
    "obj_b.method3()\n",
    "\n",
    "obj_a.method3()"
   ]
  },
  {
   "cell_type": "markdown",
   "id": "b881f25d",
   "metadata": {},
   "source": [
    "## Call an overridden method with super class reference to B and C class’s objects"
   ]
  },
  {
   "cell_type": "code",
   "execution_count": 5,
   "id": "a0a685c3",
   "metadata": {},
   "outputs": [
    {
     "name": "stdout",
     "output_type": "stream",
     "text": [
      "method 3 in class C\n",
      "method 3 in class B\n",
      "method 3 in class A\n"
     ]
    }
   ],
   "source": [
    "class A:\n",
    "    def a_class_method1(self):\n",
    "        pass\n",
    "    def a_class_method2(self):\n",
    "        pass\n",
    "    def method3(self):\n",
    "        print(\"method 3 in class A\")\n",
    "    \n",
    "class B(A):\n",
    "    def b_class_method1(self):\n",
    "        pass\n",
    "    def b_class_method2(self):\n",
    "        pass\n",
    "    def method3(self):\n",
    "        print(\"method 3 in class B\")\n",
    "        super().method3()\n",
    "    \n",
    "class C(B):\n",
    "    def c_class_method1(self):\n",
    "        pass\n",
    "    def c_class_method2(self):\n",
    "        pass\n",
    "    def method3(self):\n",
    "        print(\"method 3 in class C\")\n",
    "        super().method3()\n",
    "        \n",
    "obj_c =C()\n",
    "\n",
    "\n",
    "obj_c.method3()"
   ]
  }
 ],
 "metadata": {
  "kernelspec": {
   "display_name": "Python 3 (ipykernel)",
   "language": "python",
   "name": "python3"
  },
  "language_info": {
   "codemirror_mode": {
    "name": "ipython",
    "version": 3
   },
   "file_extension": ".py",
   "mimetype": "text/x-python",
   "name": "python",
   "nbconvert_exporter": "python",
   "pygments_lexer": "ipython3",
   "version": "3.11.5"
  }
 },
 "nbformat": 4,
 "nbformat_minor": 5
}
