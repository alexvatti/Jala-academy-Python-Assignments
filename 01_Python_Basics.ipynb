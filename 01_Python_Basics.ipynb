{
 "cells": [
  {
   "cell_type": "markdown",
   "id": "b7ef976e",
   "metadata": {},
   "source": [
    "# 1. Python Basics"
   ]
  },
  {
   "cell_type": "code",
   "execution_count": 1,
   "id": "704a26b6",
   "metadata": {},
   "outputs": [
    {
     "name": "stdout",
     "output_type": "stream",
     "text": [
      "Alexander Reddy\n"
     ]
    }
   ],
   "source": [
    "## 1. Write a program to print your name.\n",
    "\n",
    "if __name__== \"__main__\":\n",
    "    print(\"Alexander Reddy\")"
   ]
  },
  {
   "cell_type": "code",
   "execution_count": 2,
   "id": "2800bc35",
   "metadata": {},
   "outputs": [
    {
     "name": "stdout",
     "output_type": "stream",
     "text": [
      "hello world\n"
     ]
    }
   ],
   "source": [
    "## 2. Write a program for a Single line comment and multi-line comments\n",
    "\n",
    "# This is single line comment \n",
    "\n",
    "'''\n",
    "This is a multi-line comment.\n",
    "Python will ignore this text as it's not used in the program.\n",
    "'''\n",
    "print(\"hello world\")"
   ]
  },
  {
   "cell_type": "code",
   "execution_count": 3,
   "id": "65bd353c",
   "metadata": {
    "scrolled": true
   },
   "outputs": [
    {
     "name": "stdout",
     "output_type": "stream",
     "text": [
      "var type: <class 'int'>\n",
      "Value: 10\n",
      "\n",
      "var type: <class 'bool'>\n",
      "Value: True\n",
      "\n",
      "var type: <class 'str'>\n",
      "Value: Jala\n",
      "\n",
      "var type: <class 'float'>\n",
      "Value: 1000.5\n",
      "\n"
     ]
    }
   ],
   "source": [
    "## 3. Define variables for different Data Types int, Boolean, char, float, double and print on the Console.\n",
    "\n",
    "def print_type_value(var):\n",
    "    print(\"var type:\",type(var))\n",
    "    print(\"Value:\",var)\n",
    "    print()\n",
    "    \n",
    "num = 10\n",
    "flag = True\n",
    "txt = \"Jala\"\n",
    "price = 1000.50\n",
    "\n",
    "\n",
    "print_type_value(num)\n",
    "print_type_value(flag)\n",
    "print_type_value(txt)\n",
    "print_type_value(price)"
   ]
  },
  {
   "cell_type": "code",
   "execution_count": 4,
   "id": "b4e51ae9",
   "metadata": {},
   "outputs": [
    {
     "name": "stdout",
     "output_type": "stream",
     "text": [
      "global: 10\n",
      "modified global: 40\n",
      "final global: 40\n"
     ]
    }
   ],
   "source": [
    "## 4. Define the local and Global variables with the same name and print both variables and understand the scope of the variables\n",
    "\n",
    "a = 10  # Global var\n",
    "\n",
    "def modify():\n",
    "    global a \n",
    "    print(\"global:\", a) \n",
    "    a = 40  # Modify \n",
    "    print(\"modified global:\", a)\n",
    "\n",
    "modify()\n",
    "print(\"final global:\", a)  "
   ]
  },
  {
   "cell_type": "code",
   "execution_count": 5,
   "id": "8d3c146c",
   "metadata": {},
   "outputs": [
    {
     "name": "stdout",
     "output_type": "stream",
     "text": [
      "local: 40\n",
      "global: 10\n"
     ]
    }
   ],
   "source": [
    "a = 10  \n",
    "\n",
    "def modify():\n",
    "    a = 40  # Local variable\n",
    "    print(\"local:\", a)  \n",
    "    \n",
    "modify()\n",
    "print(\"global:\", a)  "
   ]
  }
 ],
 "metadata": {
  "kernelspec": {
   "display_name": "Python 3 (ipykernel)",
   "language": "python",
   "name": "python3"
  },
  "language_info": {
   "codemirror_mode": {
    "name": "ipython",
    "version": 3
   },
   "file_extension": ".py",
   "mimetype": "text/x-python",
   "name": "python",
   "nbconvert_exporter": "python",
   "pygments_lexer": "ipython3",
   "version": "3.11.5"
  }
 },
 "nbformat": 4,
 "nbformat_minor": 5
}
