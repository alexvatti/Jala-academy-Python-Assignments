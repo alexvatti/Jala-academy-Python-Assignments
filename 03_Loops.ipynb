{
 "cells": [
  {
   "cell_type": "markdown",
   "id": "01623dd8",
   "metadata": {},
   "source": [
    "# 3.Loops"
   ]
  },
  {
   "cell_type": "code",
   "execution_count": 1,
   "id": "fba9bbad",
   "metadata": {},
   "outputs": [
    {
     "name": "stdout",
     "output_type": "stream",
     "text": [
      "Bright IT Career\n",
      "Bright IT Career\n",
      "Bright IT Career\n",
      "Bright IT Career\n",
      "Bright IT Career\n",
      "Bright IT Career\n",
      "Bright IT Career\n",
      "Bright IT Career\n",
      "Bright IT Career\n",
      "Bright IT Career\n"
     ]
    }
   ],
   "source": [
    "## 1. Write a program to print “Bright IT Career” ten times using for loop\n",
    "for i in range(1,11):\n",
    "    print(\"Bright IT Career\")"
   ]
  },
  {
   "cell_type": "code",
   "execution_count": 2,
   "id": "322199cb",
   "metadata": {},
   "outputs": [
    {
     "name": "stdout",
     "output_type": "stream",
     "text": [
      "1,2,3,4,5,6,7,8,9,10,11,12,13,14,15,16,17,18,19,20,"
     ]
    }
   ],
   "source": [
    "## 2. Write a java program to print 1 to 20 numbers using the while loop.\n",
    "i = 1\n",
    "while i <= 20:\n",
    "    print(i,end=\",\")\n",
    "    i = i + 1"
   ]
  },
  {
   "cell_type": "code",
   "execution_count": 3,
   "id": "b31f9434",
   "metadata": {},
   "outputs": [
    {
     "name": "stdout",
     "output_type": "stream",
     "text": [
      "Given 20 and 10 are equal False\n",
      "Given 20 and 10 are not equal True\n"
     ]
    }
   ],
   "source": [
    "## 3. Program to equal operator and not equal operators\n",
    "n = 10\n",
    "m = 20\n",
    "print(f\"Given {m} and {n} are equal\", m == n)\n",
    "print(f\"Given {m} and {n} are not equal\", m != n)"
   ]
  },
  {
   "cell_type": "code",
   "execution_count": 3,
   "id": "35a496be",
   "metadata": {},
   "outputs": [
    {
     "name": "stdout",
     "output_type": "stream",
     "text": [
      "enter a number to check even or odd: 3\n",
      "Given number 3 is odd number\n"
     ]
    }
   ],
   "source": [
    "## 4. Write a program to print the odd and even numbers.\n",
    "\n",
    "def check_even_odd(n):\n",
    "    '''find given number even or odd'''\n",
    "    if n%2==0:\n",
    "        return True\n",
    "    else:\n",
    "        return False\n",
    "num = int(input(\"enter a number to check even or odd: \"))\n",
    "if check_even_odd(num):\n",
    "    print(f\"Given number {num} is even number\")\n",
    "else:\n",
    "    print(f\"Given number {num} is odd number\")   "
   ]
  },
  {
   "cell_type": "code",
   "execution_count": 4,
   "id": "d4698644",
   "metadata": {},
   "outputs": [
    {
     "name": "stdout",
     "output_type": "stream",
     "text": [
      "enter a number : 5\n",
      "enter a number : 6\n",
      "enter a number : 7\n",
      "largest number 7\n"
     ]
    }
   ],
   "source": [
    "## 5. Write a program to print largest number among three numbers.\n",
    "\n",
    "def largest(a,b,c):\n",
    "    '''largest among three numbers'''\n",
    "    if a>b and a>c:\n",
    "        return a\n",
    "    elif b>a and b>c:\n",
    "        return b\n",
    "    else:\n",
    "        return c\n",
    "    \n",
    "num1 = int(input(\"enter a number : \"))\n",
    "num2 = int(input(\"enter a number : \"))\n",
    "num3 = int(input(\"enter a number : \"))\n",
    "print(f\"largest number {largest(num1,num2,num3)}\")"
   ]
  },
  {
   "cell_type": "code",
   "execution_count": 5,
   "id": "a31e9b3a",
   "metadata": {},
   "outputs": [
    {
     "name": "stdout",
     "output_type": "stream",
     "text": [
      "Even numbers between 10 and 20 both are inclusive\n",
      "10,12,14,16,18,20,"
     ]
    }
   ],
   "source": [
    "## 6. Write a program to print even number between 10 and 20 using while\n",
    "def print_even_num_between_range(n,m):\n",
    "    print(f\"Even numbers between {n} and {m} both are inclusive\")\n",
    "    while(n<=m):\n",
    "        if n%2==0:\n",
    "            print(n,end=\",\")\n",
    "        n=n+1\n",
    "print_even_num_between_range(10,20)    "
   ]
  },
  {
   "cell_type": "code",
   "execution_count": 6,
   "id": "5d3aab41",
   "metadata": {},
   "outputs": [
    {
     "name": "stdout",
     "output_type": "stream",
     "text": [
      "1,2,3,4,5,6,7,8,9,10,"
     ]
    }
   ],
   "source": [
    "## 7. Write a program to print 1 to 10 using the do-while loop statement.\n",
    "i=1\n",
    "while True:\n",
    "    print(i,end=\",\")\n",
    "    i = i + 1\n",
    "    if i>10:\n",
    "        break"
   ]
  },
  {
   "cell_type": "code",
   "execution_count": 7,
   "id": "da25aedd",
   "metadata": {},
   "outputs": [
    {
     "name": "stdout",
     "output_type": "stream",
     "text": [
      "enter a number to check Armstrong number or not : 121\n",
      "Given number 121 is not Armstrong number\n"
     ]
    }
   ],
   "source": [
    "## 8. Write a program to find Armstrong number or not\n",
    "\n",
    "def check_armstrong_num(num):\n",
    "    original_num = num\n",
    "    sum_cubes = 0\n",
    "    if num > 0:\n",
    "        while num!=0:\n",
    "            r = num%10\n",
    "            sum_cubes += pow(r,3)\n",
    "            num = num//10\n",
    "    if sum_cubes == original_num:\n",
    "        return True\n",
    "    else:\n",
    "        return False\n",
    "\n",
    "num = int(input(\"enter a number to check Armstrong number or not : \"))\n",
    "if check_armstrong_num(num):\n",
    "    print(f\"Given number {num} is Armstrong number\")\n",
    "else:\n",
    "    print(f\"Given number {num} is not Armstrong number\")  "
   ]
  },
  {
   "cell_type": "code",
   "execution_count": 8,
   "id": "3394f039",
   "metadata": {},
   "outputs": [
    {
     "name": "stdout",
     "output_type": "stream",
     "text": [
      "enter a number to check prime or not. : 7\n",
      "Given number 7 is Prime number\n"
     ]
    }
   ],
   "source": [
    "## 9. Write a program to find the prime or not.\n",
    "def check_num_prime_not(num):\n",
    "    for i in range(2,num):\n",
    "        if num%i==0:\n",
    "            return False\n",
    "    return True\n",
    "num = int(input(\"enter a number to check prime or not. : \"))\n",
    "\n",
    "if check_num_prime_not(num):\n",
    "    print(f\"Given number {num} is Prime number\")\n",
    "else:\n",
    "    print(f\"Given number {num} is not Prime number\")  "
   ]
  },
  {
   "cell_type": "code",
   "execution_count": 9,
   "id": "b34b1a8e",
   "metadata": {},
   "outputs": [
    {
     "name": "stdout",
     "output_type": "stream",
     "text": [
      "enter a number to check palindrome or not. : 121\n",
      "Given number 121 is palindrome number\n"
     ]
    }
   ],
   "source": [
    "## 10. Write a program to palindrome or not.\n",
    "def check_palindrome_num(num):\n",
    "    original_num = num\n",
    "    rev = 0\n",
    "    if num > 0:\n",
    "        while num!=0:\n",
    "            r = num%10\n",
    "            rev = rev*10 + r\n",
    "            num = num//10\n",
    "    if rev == original_num:\n",
    "        return True\n",
    "    else:\n",
    "        return False\n",
    "\n",
    "num = int(input(\"enter a number to check palindrome or not. : \"))\n",
    "\n",
    "if check_palindrome_num(num):\n",
    "    print(f\"Given number {num} is palindrome number\")\n",
    "else:\n",
    "    print(f\"Given number {num} is not palindrome number\")  "
   ]
  },
  {
   "cell_type": "code",
   "execution_count": 10,
   "id": "e43e5330",
   "metadata": {},
   "outputs": [
    {
     "name": "stdout",
     "output_type": "stream",
     "text": [
      "Enter a number: 6\n",
      "The number 6 is Even.\n"
     ]
    }
   ],
   "source": [
    "## 11. Program to check whether a number is EVEN or ODD using switch\n",
    "def check_even_odd(number):\n",
    "    switch = {\n",
    "        0: \"Even\",\n",
    "        1: \"Odd\"\n",
    "    }\n",
    "    return switch[number % 2]\n",
    "\n",
    "\n",
    "number = int(input(\"Enter a number: \"))\n",
    "result = check_even_odd(number)\n",
    "print(f\"The number {number} is {result}.\")"
   ]
  },
  {
   "cell_type": "code",
   "execution_count": 11,
   "id": "99e4a2f4",
   "metadata": {},
   "outputs": [
    {
     "name": "stdout",
     "output_type": "stream",
     "text": [
      "Enter a choice[M/F]: F\n",
      "The choice F is Female.\n"
     ]
    }
   ],
   "source": [
    "## 12. Print gender (Male/Female) program according to given M/F using switch\n",
    "def check_Male_Female(choice):\n",
    "    \n",
    "    switch = {\n",
    "        \"M\": \"Male\",\n",
    "        \"F\": \"Female\"\n",
    "    }\n",
    "    return switch[choice]\n",
    "\n",
    "\n",
    "choice = input(\"Enter a choice[M/F]: \")\n",
    "if choice == \"M\" or choice == \"F\":\n",
    "    result = check_Male_Female(choice)\n",
    "    print(f\"The choice {choice} is {result}.\")\n",
    "else:\n",
    "    print(\"Invalid Input -Input[M/F]\")"
   ]
  }
 ],
 "metadata": {
  "kernelspec": {
   "display_name": "Python 3 (ipykernel)",
   "language": "python",
   "name": "python3"
  },
  "language_info": {
   "codemirror_mode": {
    "name": "ipython",
    "version": 3
   },
   "file_extension": ".py",
   "mimetype": "text/x-python",
   "name": "python",
   "nbconvert_exporter": "python",
   "pygments_lexer": "ipython3",
   "version": "3.11.5"
  }
 },
 "nbformat": 4,
 "nbformat_minor": 5
}
