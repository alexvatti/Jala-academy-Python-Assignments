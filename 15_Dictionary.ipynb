{
 "cells": [
  {
   "cell_type": "markdown",
   "id": "3d08ae8d",
   "metadata": {},
   "source": [
    "# 15.Dictionary"
   ]
  },
  {
   "cell_type": "code",
   "execution_count": 16,
   "id": "31548792",
   "metadata": {},
   "outputs": [
    {
     "name": "stdout",
     "output_type": "stream",
     "text": [
      "{1000: 'Alex', 1001: 'Naresh', 1002: 'Suresh', 1004: 'Ramesh', 1005: 'kumar'}\n"
     ]
    }
   ],
   "source": [
    "## 1. Create a Dictionary with at least 5 key value pairs of the Student ID and Name\n",
    "\n",
    "sample_dict = { 1000: \"Alex\", 1001: \"Naresh\", 1002:\"Suresh\", 1004: \"Ramesh\", 1005:\"kumar\"}\n",
    "print(sample_dict)\n",
    "\n"
   ]
  },
  {
   "cell_type": "code",
   "execution_count": 17,
   "id": "0e329ae3",
   "metadata": {},
   "outputs": [
    {
     "data": {
      "text/plain": [
       "{1000: 'Alex',\n",
       " 1001: 'Naresh',\n",
       " 1002: 'Suresh',\n",
       " 1004: 'Ramesh',\n",
       " 1005: 'kumar',\n",
       " 1006: 'swamy'}"
      ]
     },
     "execution_count": 17,
     "metadata": {},
     "output_type": "execute_result"
    }
   ],
   "source": [
    "## 1.1. Adding the values in dictionary\n",
    "sample_dict[1006]=\"swamy\"\n",
    "sample_dict"
   ]
  },
  {
   "cell_type": "code",
   "execution_count": 18,
   "id": "a7fb4674",
   "metadata": {},
   "outputs": [
    {
     "data": {
      "text/plain": [
       "{1000: 'Alex',\n",
       " 1001: 'Naresh',\n",
       " 1002: 'Suresh',\n",
       " 1004: 'Ramesh',\n",
       " 1005: 'kumar',\n",
       " 1006: 'Ashok'}"
      ]
     },
     "execution_count": 18,
     "metadata": {},
     "output_type": "execute_result"
    }
   ],
   "source": [
    "## 1.2. Updating the values in dictionary\n",
    "sample_dict[1006] = \"Ashok\"\n",
    "sample_dict"
   ]
  },
  {
   "cell_type": "code",
   "execution_count": 19,
   "id": "fcceb2d9",
   "metadata": {},
   "outputs": [
    {
     "name": "stdout",
     "output_type": "stream",
     "text": [
      "Ashok\n",
      "Ashok\n"
     ]
    }
   ],
   "source": [
    "## 1.3. Accessing the value in dictionary\n",
    "print(sample_dict.get(1006))\n",
    "print(sample_dict[1006])"
   ]
  },
  {
   "cell_type": "code",
   "execution_count": 20,
   "id": "42dd3384",
   "metadata": {},
   "outputs": [
    {
     "name": "stdout",
     "output_type": "stream",
     "text": [
      "1: {1: 'Value_1_1', 2: 'Value_1_2', 3: 'Value_1_3'}\n",
      "2: {1: 'Value_2_1', 2: 'Value_2_2', 3: 'Value_2_3'}\n",
      "3: {1: 'Value_3_1', 2: 'Value_3_2', 3: 'Value_3_3'}\n"
     ]
    },
    {
     "data": {
      "text/plain": [
       "{1: {1: 'Value_1_1', 2: 'Value_1_2', 3: 'Value_1_3'},\n",
       " 2: {1: 'Value_2_1', 2: 'Value_2_2', 3: 'Value_2_3'},\n",
       " 3: {1: 'Value_3_1', 2: 'Value_3_2', 3: 'Value_3_3'}}"
      ]
     },
     "execution_count": 20,
     "metadata": {},
     "output_type": "execute_result"
    }
   ],
   "source": [
    "## 1.4. Create a nested loop dictionary\n",
    "nested_dict = {}\n",
    "\n",
    "for i in range(1, 4):  \n",
    "    nested_dict[i] = {}\n",
    "    for j in range(1, 4):  \n",
    "        nested_dict[i][j] = f\"Value_{i}_{j}\"\n",
    "\n",
    "# Print the nested dictionary\n",
    "for key, value in nested_dict.items():\n",
    "    print(f\"{key}: {value}\")\n",
    "nested_dict"
   ]
  },
  {
   "cell_type": "code",
   "execution_count": 21,
   "id": "fd2242dd",
   "metadata": {},
   "outputs": [
    {
     "name": "stdout",
     "output_type": "stream",
     "text": [
      "1: {1: 'Value_1_1', 2: 'Value_1_2', 3: 'Value_1_3'}\n",
      "2: {1: 'Value_2_1', 2: 'Value_2_2', 3: 'Value_2_3'}\n",
      "3: {1: 'Value_3_1', 2: 'Value_3_2', 3: 'Value_3_3'}\n"
     ]
    }
   ],
   "source": [
    "## 1.5. Access the values of nested loop dictionary\n",
    "\n",
    "for key, value in nested_dict.items():\n",
    "    print(f\"{key}: {value}\")"
   ]
  },
  {
   "cell_type": "code",
   "execution_count": 22,
   "id": "defa8ff3",
   "metadata": {},
   "outputs": [
    {
     "data": {
      "text/plain": [
       "dict_keys([1000, 1001, 1002, 1004, 1005, 1006])"
      ]
     },
     "execution_count": 22,
     "metadata": {},
     "output_type": "execute_result"
    }
   ],
   "source": [
    "## 1.6. Print the keys present in a particular dictionary\n",
    "sample_dict.keys()"
   ]
  },
  {
   "cell_type": "code",
   "execution_count": 23,
   "id": "17123f32",
   "metadata": {},
   "outputs": [
    {
     "name": "stdout",
     "output_type": "stream",
     "text": [
      "{1000: 'Alex', 1001: 'Naresh', 1002: 'Suresh', 1004: 'Ramesh', 1005: 'kumar'}\n"
     ]
    }
   ],
   "source": [
    "# 1.7. Delete a value from a dictionary\n",
    "\n",
    "del sample_dict[1006]\n",
    "print(sample_dict)"
   ]
  },
  {
   "cell_type": "code",
   "execution_count": 24,
   "id": "25db5368",
   "metadata": {},
   "outputs": [
    {
     "name": "stdout",
     "output_type": "stream",
     "text": [
      "kumar\n",
      "{1000: 'Alex', 1001: 'Naresh', 1002: 'Suresh', 1004: 'Ramesh'}\n"
     ]
    }
   ],
   "source": [
    "removed_value = sample_dict.pop(1005)\n",
    "print(removed_value)\n",
    "print(sample_dict)"
   ]
  }
 ],
 "metadata": {
  "kernelspec": {
   "display_name": "Python 3 (ipykernel)",
   "language": "python",
   "name": "python3"
  },
  "language_info": {
   "codemirror_mode": {
    "name": "ipython",
    "version": 3
   },
   "file_extension": ".py",
   "mimetype": "text/x-python",
   "name": "python",
   "nbconvert_exporter": "python",
   "pygments_lexer": "ipython3",
   "version": "3.11.5"
  }
 },
 "nbformat": 4,
 "nbformat_minor": 5
}
