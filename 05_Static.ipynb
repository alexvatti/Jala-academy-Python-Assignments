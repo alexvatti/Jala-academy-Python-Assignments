{
 "cells": [
  {
   "cell_type": "markdown",
   "id": "7cbccb19",
   "metadata": {},
   "source": [
    "# 5.Static"
   ]
  },
  {
   "cell_type": "code",
   "execution_count": 1,
   "id": "8cb3b5e4",
   "metadata": {},
   "outputs": [
    {
     "name": "stdout",
     "output_type": "stream",
     "text": [
      "10\n"
     ]
    }
   ],
   "source": [
    "## 1. Define a static variable and access that through a class\n",
    "class Test:\n",
    "    a = 10\n",
    "    def __init__(self):\n",
    "        pass\n",
    "\n",
    "print(Test.a)"
   ]
  },
  {
   "cell_type": "code",
   "execution_count": 3,
   "id": "fcb7de04",
   "metadata": {},
   "outputs": [
    {
     "name": "stdout",
     "output_type": "stream",
     "text": [
      "10\n",
      "10\n"
     ]
    }
   ],
   "source": [
    "# 2. Define a static variable and access that through a instance\n",
    "class Test:\n",
    "    a = 10\n",
    "    def __init__(self):\n",
    "        pass\n",
    "    def display(self):\n",
    "        print(self.a)\n",
    "\n",
    "t = Test()\n",
    "print(t.a)\n",
    "t.display()"
   ]
  },
  {
   "cell_type": "code",
   "execution_count": 5,
   "id": "41dde66f",
   "metadata": {},
   "outputs": [
    {
     "name": "stdout",
     "output_type": "stream",
     "text": [
      "Initial static variable:\n",
      "10\n",
      "Modified static variable:\n",
      "100\n"
     ]
    }
   ],
   "source": [
    "## 3. Define a static variable and change within the instance\n",
    "class Test:\n",
    "    a = 10\n",
    "    def __init__(self):\n",
    "        pass\n",
    "\n",
    "    def modify_static(self, value):\n",
    "        self.a = value  \n",
    "        \n",
    "    def display(self):\n",
    "        print(self.a)\n",
    "\n",
    "\n",
    "\n",
    "obj = Test()\n",
    "\n",
    "print(\"Initial static variable:\")\n",
    "obj.display()\n",
    "obj.modify_static(100)\n",
    "print(\"Modified static variable:\")\n",
    "obj.display()"
   ]
  },
  {
   "cell_type": "code",
   "execution_count": 6,
   "id": "2e0d6899",
   "metadata": {},
   "outputs": [
    {
     "name": "stdout",
     "output_type": "stream",
     "text": [
      "100\n"
     ]
    }
   ],
   "source": [
    "## 4. Define a static variable and change within the class\n",
    "\n",
    "class Test:\n",
    "    a = 10\n",
    "    def __init__(self):\n",
    "        pass\n",
    "    @classmethod\n",
    "    def change(cls,val):\n",
    "        cls.a=val\n",
    "\n",
    "t = Test()\n",
    "t.change(100)\n",
    "print(t.a)"
   ]
  }
 ],
 "metadata": {
  "kernelspec": {
   "display_name": "Python 3 (ipykernel)",
   "language": "python",
   "name": "python3"
  },
  "language_info": {
   "codemirror_mode": {
    "name": "ipython",
    "version": 3
   },
   "file_extension": ".py",
   "mimetype": "text/x-python",
   "name": "python",
   "nbconvert_exporter": "python",
   "pygments_lexer": "ipython3",
   "version": "3.11.5"
  }
 },
 "nbformat": 4,
 "nbformat_minor": 5
}
