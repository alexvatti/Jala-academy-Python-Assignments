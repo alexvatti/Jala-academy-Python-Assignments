{
 "cells": [
  {
   "cell_type": "markdown",
   "id": "8b144700",
   "metadata": {},
   "source": [
    "## Tricky with // (floor) operator with positive and negative values"
   ]
  },
  {
   "cell_type": "code",
   "execution_count": 4,
   "id": "eab71ead",
   "metadata": {},
   "outputs": [
    {
     "data": {
      "text/plain": [
       "2"
      ]
     },
     "execution_count": 4,
     "metadata": {},
     "output_type": "execute_result"
    }
   ],
   "source": [
    "num = 5//2\n",
    "num"
   ]
  },
  {
   "cell_type": "code",
   "execution_count": 3,
   "id": "9229009e",
   "metadata": {},
   "outputs": [
    {
     "data": {
      "text/plain": [
       "-3"
      ]
     },
     "execution_count": 3,
     "metadata": {},
     "output_type": "execute_result"
    }
   ],
   "source": [
    "num = -5//2\n",
    "num"
   ]
  },
  {
   "cell_type": "markdown",
   "id": "90a01252",
   "metadata": {},
   "source": [
    "## return value of reversed  funtion and list reverse method"
   ]
  },
  {
   "cell_type": "code",
   "execution_count": 10,
   "id": "7572177e",
   "metadata": {},
   "outputs": [
    {
     "name": "stdout",
     "output_type": "stream",
     "text": [
      "[4, 3, 2, 1]\n",
      "[4, 3, 2, 1]\n"
     ]
    }
   ],
   "source": [
    "l = [1,2,3,4]\n",
    "l.reverse()\n",
    "print(l)\n",
    "\n",
    "l = [1,2,3,4]\n",
    "print(list(reversed(l))) # Return a reverse iterator over the values of the given sequence"
   ]
  },
  {
   "cell_type": "markdown",
   "id": "e3d64e6b",
   "metadata": {},
   "source": [
    "## can you order the list of strings  based on length using lambda"
   ]
  },
  {
   "cell_type": "code",
   "execution_count": 13,
   "id": "4cda4093",
   "metadata": {},
   "outputs": [
    {
     "data": {
      "text/plain": [
       "['alex', 'amar', 'ashok', 'kumar', 'naveen']"
      ]
     },
     "execution_count": 13,
     "metadata": {},
     "output_type": "execute_result"
    }
   ],
   "source": [
    "l = [ \"kumar\", \"naveen\",\"alex\", \"amar\", \"ashok\"]\n",
    "sorted(l, key=lambda x: (len(x),x))"
   ]
  },
  {
   "cell_type": "markdown",
   "id": "37295d64",
   "metadata": {},
   "source": [
    "## sort given dict based on the values"
   ]
  },
  {
   "cell_type": "code",
   "execution_count": 16,
   "id": "316f860c",
   "metadata": {},
   "outputs": [
    {
     "data": {
      "text/plain": [
       "{'a': 4, 'b': 2, 'c': 5}"
      ]
     },
     "execution_count": 16,
     "metadata": {},
     "output_type": "execute_result"
    }
   ],
   "source": [
    "d = dict(a=4,b=2,c=5)\n",
    "d"
   ]
  },
  {
   "cell_type": "code",
   "execution_count": 19,
   "id": "845c2343",
   "metadata": {},
   "outputs": [
    {
     "data": {
      "text/plain": [
       "[('b', 2), ('a', 4), ('c', 5)]"
      ]
     },
     "execution_count": 19,
     "metadata": {},
     "output_type": "execute_result"
    }
   ],
   "source": [
    "sorted(d.items(), key=lambda items: items[1])"
   ]
  },
  {
   "cell_type": "markdown",
   "id": "cc5ebb03",
   "metadata": {},
   "source": [
    "## what does  zip / enumerate functions does"
   ]
  },
  {
   "cell_type": "code",
   "execution_count": 24,
   "id": "e5e7d9ca",
   "metadata": {
    "scrolled": true
   },
   "outputs": [
    {
     "name": "stdout",
     "output_type": "stream",
     "text": [
      "{'a': 1, 'b': 2, 'c': 3, 'd': 4}\n",
      "('a', 1)\n",
      "('b', 2)\n",
      "('c', 3)\n",
      "('d', 4)\n"
     ]
    }
   ],
   "source": [
    "keys = [\"a\", \"b\", \"c\",\"d\"]\n",
    "values = [1,2,3,4]\n",
    "d = dict(zip(keys,values))\n",
    "print(d)\n",
    "for k,v in zip(keys,values):\n",
    "    print((k,v))"
   ]
  },
  {
   "cell_type": "code",
   "execution_count": 26,
   "id": "36c4c9a9",
   "metadata": {
    "scrolled": true
   },
   "outputs": [
    {
     "name": "stdout",
     "output_type": "stream",
     "text": [
      "(0, 'a')\n",
      "(1, 'b')\n",
      "(2, 'c')\n",
      "(3, 'd')\n"
     ]
    }
   ],
   "source": [
    "for index,key in enumerate(keys):\n",
    "    print((index,key))"
   ]
  },
  {
   "cell_type": "markdown",
   "id": "4300066f",
   "metadata": {},
   "source": [
    "## tricky  complex number question"
   ]
  },
  {
   "cell_type": "code",
   "execution_count": 27,
   "id": "0302bea2",
   "metadata": {},
   "outputs": [
    {
     "name": "stdout",
     "output_type": "stream",
     "text": [
      "0j\n"
     ]
    }
   ],
   "source": [
    "a=0+0j\n",
    "print(a)"
   ]
  },
  {
   "cell_type": "markdown",
   "id": "8a059f21",
   "metadata": {},
   "source": [
    "## Often Confusing Methods:\n",
    "1. diff between find and index in string\n",
    "2. diff between remove and discard in sets\n",
    "3. diff betwee remove and pop in list\n",
    "4. diff between difference and symmetric difference in sets\n",
    "5. diff between tittle and capitalize in string"
   ]
  },
  {
   "cell_type": "markdown",
   "id": "a9a52eba",
   "metadata": {},
   "source": [
    "## What is the difference between deepcopy() and copy()?"
   ]
  },
  {
   "cell_type": "code",
   "execution_count": 28,
   "id": "398b02fa",
   "metadata": {},
   "outputs": [],
   "source": [
    "import copy\n",
    "a = [[1, 2], [3, 4],5]\n",
    "b = copy.copy(a)\n",
    "c = copy.deepcopy(a)"
   ]
  },
  {
   "cell_type": "markdown",
   "id": "785e7133",
   "metadata": {},
   "source": [
    "## Can a Python dictionary key contains  the floowing? \n",
    "- list ,int , string , tuple,set ,"
   ]
  },
  {
   "cell_type": "markdown",
   "id": "b2147642",
   "metadata": {},
   "source": [
    "##  Can you modify a tuple?\n",
    "- Tuples are immutable, but if they contain mutable objects, those can be modified"
   ]
  },
  {
   "cell_type": "code",
   "execution_count": 29,
   "id": "18c9149c",
   "metadata": {},
   "outputs": [
    {
     "name": "stdout",
     "output_type": "stream",
     "text": [
      "(1, 2, [3, 4, 5])\n"
     ]
    }
   ],
   "source": [
    "a = (1, 2, [3, 4])\n",
    "a[2].append(5)  # Modifies the list inside\n",
    "print(a)  # (1, 2, [3, 4, 5])\n"
   ]
  },
  {
   "cell_type": "markdown",
   "id": "da9f02de",
   "metadata": {},
   "source": [
    "## What is the difference between @staticmethod, @classmethod, and instance methods?\n",
    "\n",
    "- Instance method: Takes self as its first argument.\n",
    "- @classmethod: Takes cls as its first argument, works with the class.\n",
    "- @staticmethod: Takes neither self nor cls."
   ]
  },
  {
   "cell_type": "markdown",
   "id": "a3bc211b",
   "metadata": {},
   "source": [
    "## Explain Python's method resolution order (MRO)."
   ]
  },
  {
   "cell_type": "markdown",
   "id": "f7397c4b",
   "metadata": {},
   "source": [
    "1. Determines the order of method inheritance in a class hierarchy.\n",
    "\n",
    "2. Follows C3 linearization (Depth-First, Left-to-Right).\n",
    "\n",
    "3. Use ClassName.mro() to view the MRO."
   ]
  },
  {
   "cell_type": "markdown",
   "id": "cd06a507",
   "metadata": {},
   "source": [
    "## What is *args and **kwargs?\n",
    "1. *args collects positional arguments as a tuple.\n",
    "2. **kwargs collects keyword arguments as a dictionary."
   ]
  }
 ],
 "metadata": {
  "kernelspec": {
   "display_name": "Python 3 (ipykernel)",
   "language": "python",
   "name": "python3"
  },
  "language_info": {
   "codemirror_mode": {
    "name": "ipython",
    "version": 3
   },
   "file_extension": ".py",
   "mimetype": "text/x-python",
   "name": "python",
   "nbconvert_exporter": "python",
   "pygments_lexer": "ipython3",
   "version": "3.11.5"
  }
 },
 "nbformat": 4,
 "nbformat_minor": 5
}
