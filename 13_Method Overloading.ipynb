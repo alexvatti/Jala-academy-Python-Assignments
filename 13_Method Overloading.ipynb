{
 "cells": [
  {
   "cell_type": "markdown",
   "id": "a480c3a5",
   "metadata": {},
   "source": [
    "## 1. Write two methods with the same name but different number of parameters of same type and call the methods\n",
    "## 2. Write two methods with the same name but different number of parameters of different data type and call the methods\n",
    "## 3. Write two methods with the same name and same number of parameters of same type "
   ]
  },
  {
   "cell_type": "code",
   "execution_count": 4,
   "id": "a4621c1e",
   "metadata": {},
   "outputs": [
    {
     "name": "stdout",
     "output_type": "stream",
     "text": [
      "5\n",
      "9\n"
     ]
    }
   ],
   "source": [
    "class A:\n",
    "    def add(self,a=None,b=None,c=None):\n",
    "        if a!=None and b!=None and c!=None:\n",
    "            return(a+b+c)\n",
    "        elif  a!=None and b!=None:\n",
    "            return (a+b)\n",
    "        \n",
    "obj = A()\n",
    "print(obj.add(2,3))\n",
    "print(obj.add(2,3,4))\n",
    "        "
   ]
  }
 ],
 "metadata": {
  "kernelspec": {
   "display_name": "Python 3 (ipykernel)",
   "language": "python",
   "name": "python3"
  },
  "language_info": {
   "codemirror_mode": {
    "name": "ipython",
    "version": 3
   },
   "file_extension": ".py",
   "mimetype": "text/x-python",
   "name": "python",
   "nbconvert_exporter": "python",
   "pygments_lexer": "ipython3",
   "version": "3.11.5"
  }
 },
 "nbformat": 4,
 "nbformat_minor": 5
}
