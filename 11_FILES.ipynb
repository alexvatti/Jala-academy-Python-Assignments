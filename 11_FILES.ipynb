{
 "cells": [
  {
   "cell_type": "markdown",
   "id": "f4b33174",
   "metadata": {},
   "source": [
    "# 11. FILES"
   ]
  },
  {
   "cell_type": "code",
   "execution_count": 1,
   "id": "6aed2d19",
   "metadata": {},
   "outputs": [
    {
     "name": "stdout",
     "output_type": "stream",
     "text": [
      "The file was not found.\n"
     ]
    }
   ],
   "source": [
    "## 1. Write a program to read text file\n",
    "def read_text_file(file_path):\n",
    "    try:\n",
    "        with open(file_path, 'r') as file:\n",
    "            content = file.read()\n",
    "            print(content)\n",
    "    except FileNotFoundError:\n",
    "        print(\"The file was not found.\")\n",
    "    except IOError as e:\n",
    "        print(f\"Error reading the file: {e}\")\n",
    "\n",
    "read_text_file(\"example.txt\")"
   ]
  },
  {
   "cell_type": "code",
   "execution_count": 2,
   "id": "1b791e97",
   "metadata": {},
   "outputs": [
    {
     "name": "stdout",
     "output_type": "stream",
     "text": [
      "Enter text to write to file (type 'exit' to stop):\n",
      "Alex\n",
      "learning\n",
      "Python\n",
      "very\n",
      "well\n",
      "exit\n"
     ]
    }
   ],
   "source": [
    "## 2. Write a program to write text to .txt file using InputStream\n",
    "def write_text_to_file(file_path):\n",
    "    try:\n",
    "        with open(file_path, 'w') as file:\n",
    "            print(\"Enter text to write to file (type 'exit' to stop):\")\n",
    "            while True:\n",
    "                user_input = input()\n",
    "                if user_input.lower() == 'exit':\n",
    "                    break\n",
    "                file.write(user_input + \"\\n\")\n",
    "    except IOError as e:\n",
    "        print(f\"Error writing to the file: {e}\")\n",
    "\n",
    "\n",
    "write_text_to_file(\"output.txt\")"
   ]
  },
  {
   "cell_type": "code",
   "execution_count": 3,
   "id": "175eeab3",
   "metadata": {},
   "outputs": [
    {
     "name": "stdout",
     "output_type": "stream",
     "text": [
      "b'Alex\\r\\nlearning\\r\\nPython\\r\\nvery\\r\\nwell\\r\\n'\n"
     ]
    }
   ],
   "source": [
    "## 3. Write a program to read a file stream\n",
    "def read_file_stream(file_path):\n",
    "    try:\n",
    "        with open(file_path, 'rb') as file:\n",
    "            content = file.read()\n",
    "            print(content)\n",
    "    except FileNotFoundError:\n",
    "        print(\"The file was not found.\")\n",
    "    except IOError as e:\n",
    "        print(f\"Error reading the file stream: {e}\")\n",
    "\n",
    "\n",
    "read_file_stream(\"output.txt\")"
   ]
  },
  {
   "cell_type": "code",
   "execution_count": 4,
   "id": "244af9d1",
   "metadata": {
    "scrolled": true
   },
   "outputs": [
    {
     "name": "stdout",
     "output_type": "stream",
     "text": [
      "b'Alex\\r\\nlear'\n",
      "b'\\nlearning\\r'\n",
      "Current position: 15\n"
     ]
    }
   ],
   "source": [
    "## 4. Write a program to read a file stream supports random access\n",
    "def read_file_random_access(file_path):\n",
    "    try:\n",
    "        with open(file_path, 'rb') as file:\n",
    "            # Read first 10 bytes\n",
    "            print(file.read(10))\n",
    "            # Move to the 5th byte\n",
    "            file.seek(5)\n",
    "            print(file.read(10))\n",
    "            # Get current file pointer position\n",
    "            print(\"Current position:\", file.tell())\n",
    "    except FileNotFoundError:\n",
    "        print(\"The file was not found.\")\n",
    "    except IOError as e:\n",
    "        print(f\"Error reading the file stream: {e}\")\n",
    "\n",
    "\n",
    "read_file_random_access(\"output.txt\")"
   ]
  },
  {
   "cell_type": "code",
   "execution_count": 5,
   "id": "eb339ed0",
   "metadata": {},
   "outputs": [
    {
     "name": "stdout",
     "output_type": "stream",
     "text": [
      "b'ning\\r\\nPython\\r\\nvery\\r\\nwell\\r\\n'\n"
     ]
    }
   ],
   "source": [
    "## 5. Write a program to read a file a just to a particular index using seek()\n",
    "def read_file_at_index(file_path, index):\n",
    "    try:\n",
    "        with open(file_path, 'rb') as file:\n",
    "            file.seek(index)\n",
    "            content = file.read()\n",
    "            print(content)\n",
    "    except FileNotFoundError:\n",
    "        print(\"The file was not found.\")\n",
    "    except IOError as e:\n",
    "        print(f\"Error reading the file at index: {e}\")\n",
    "\n",
    "\n",
    "read_file_at_index(\"output.txt\", 10)  # Adjust to byte 10"
   ]
  },
  {
   "cell_type": "code",
   "execution_count": 6,
   "id": "44cfa04a",
   "metadata": {},
   "outputs": [
    {
     "name": "stdout",
     "output_type": "stream",
     "text": [
      "File has read access.\n",
      "File has write access.\n"
     ]
    }
   ],
   "source": [
    "## 6. Write a program to check whether a file is having read access and write access permissions\n",
    "import os\n",
    "\n",
    "def check_file_permissions(file_path):\n",
    "    try:\n",
    "        permissions = os.stat(file_path)\n",
    "        read_access = os.access(file_path, os.R_OK)\n",
    "        write_access = os.access(file_path, os.W_OK)\n",
    "        \n",
    "        if read_access:\n",
    "            print(\"File has read access.\")\n",
    "        else:\n",
    "            print(\"File does not have read access.\")\n",
    "        \n",
    "        if write_access:\n",
    "            print(\"File has write access.\")\n",
    "        else:\n",
    "            print(\"File does not have write access.\")\n",
    "    except FileNotFoundError:\n",
    "        print(\"The file was not found.\")\n",
    "    except IOError as e:\n",
    "        print(f\"Error checking file permissions: {e}\")\n",
    "\n",
    "check_file_permissions(\"output.txt\")"
   ]
  }
 ],
 "metadata": {
  "kernelspec": {
   "display_name": "Python 3 (ipykernel)",
   "language": "python",
   "name": "python3"
  },
  "language_info": {
   "codemirror_mode": {
    "name": "ipython",
    "version": 3
   },
   "file_extension": ".py",
   "mimetype": "text/x-python",
   "name": "python",
   "nbconvert_exporter": "python",
   "pygments_lexer": "ipython3",
   "version": "3.11.5"
  }
 },
 "nbformat": 4,
 "nbformat_minor": 5
}
